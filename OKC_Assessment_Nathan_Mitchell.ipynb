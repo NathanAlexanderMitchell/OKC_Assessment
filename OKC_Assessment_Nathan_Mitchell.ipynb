{
 "cells": [
  {
   "cell_type": "code",
   "execution_count": 1,
   "metadata": {},
   "outputs": [],
   "source": [
    "import pandas as pd\n",
    "Data=pd.read_csv(\"shots_data.csv\")\n",
    "Data['Distance']=(Data.x**2+Data.y**2)**.5\n",
    "Data['Corner_Y']=(Data.y<=7.8).astype(int)\n",
    "Data['Corner_Dist']=(Data.Distance>=22).astype(int)\n",
    "Data['C3']=(Data.Corner_Y+Data.Corner_Dist==2).astype(int)\n",
    "Data['Non_Corner_Dist']=(Data.Distance>=23.75).astype(int)\n",
    "Data['NC3']=((Data.Non_Corner_Dist-Data.C3)>0).astype(int)\n",
    "Data['TwoPT']=1-Data.C3-Data.NC3\n",
    "\n",
    "Data['C3_Make']=((Data.fgmade+Data.C3-1)>0).astype(int)\n",
    "Data['NC3_Make']=((Data.fgmade+Data.NC3-1)>0).astype(int)\n",
    "Data['TwoPT_Make']=((Data.fgmade+Data.TwoPT-1)>0).astype(int)\n",
    "\n",
    "Data.drop(['Distance','Corner_Y', 'Corner_Dist','Non_Corner_Dist'], axis=1, inplace=True)\n",
    "#Data"
   ]
  },
  {
   "cell_type": "code",
   "execution_count": 2,
   "metadata": {},
   "outputs": [
    {
     "data": {
      "text/html": [
       "<div>\n",
       "<style scoped>\n",
       "    .dataframe tbody tr th:only-of-type {\n",
       "        vertical-align: middle;\n",
       "    }\n",
       "\n",
       "    .dataframe tbody tr th {\n",
       "        vertical-align: top;\n",
       "    }\n",
       "\n",
       "    .dataframe thead th {\n",
       "        text-align: right;\n",
       "    }\n",
       "</style>\n",
       "<table border=\"1\" class=\"dataframe\">\n",
       "  <thead>\n",
       "    <tr style=\"text-align: right;\">\n",
       "      <th></th>\n",
       "      <th>C3</th>\n",
       "      <th>NC3</th>\n",
       "      <th>TwoPT</th>\n",
       "    </tr>\n",
       "  </thead>\n",
       "  <tbody>\n",
       "    <tr>\n",
       "      <th>0</th>\n",
       "      <td>0.071429</td>\n",
       "      <td>0.321429</td>\n",
       "      <td>0.607143</td>\n",
       "    </tr>\n",
       "  </tbody>\n",
       "</table>\n",
       "</div>"
      ],
      "text/plain": [
       "         C3       NC3     TwoPT\n",
       "0  0.071429  0.321429  0.607143"
      ]
     },
     "execution_count": 2,
     "metadata": {},
     "output_type": "execute_result"
    }
   ],
   "source": [
    "Team_A=Data.loc[Data['team'] == 'Team A']\n",
    "ShotData_A=Team_A.sum(axis=0)\n",
    "ShotData_A.drop(labels=['team','x','y'], inplace=True)\n",
    "Shot_Total_A=len(Team_A)\n",
    "Shot_Make_Total_A=ShotData_A[0]\n",
    "C3_Attempt_A=ShotData_A[1]\n",
    "NC3_Attempt_A=ShotData_A[2]\n",
    "TwoPt_Attempt_A=ShotData_A[3]\n",
    "C3_Make_A=ShotData_A[4]\n",
    "NC3_Make_A=ShotData_A[5]\n",
    "TwoPt_Make_A=ShotData_A[6]\n",
    "\n",
    "Shot_Distribution_A = {'C3':  [C3_Attempt_A/Shot_Total_A],'NC3': [NC3_Attempt_A/Shot_Total_A],'TwoPT': [TwoPt_Attempt_A/Shot_Total_A]}\n",
    "Shot_Distribution_A = pd.DataFrame(Shot_Distribution_A)\n",
    "Shot_Distribution_A"
   ]
  },
  {
   "cell_type": "code",
   "execution_count": 3,
   "metadata": {},
   "outputs": [
    {
     "data": {
      "text/html": [
       "<div>\n",
       "<style scoped>\n",
       "    .dataframe tbody tr th:only-of-type {\n",
       "        vertical-align: middle;\n",
       "    }\n",
       "\n",
       "    .dataframe tbody tr th {\n",
       "        vertical-align: top;\n",
       "    }\n",
       "\n",
       "    .dataframe thead th {\n",
       "        text-align: right;\n",
       "    }\n",
       "</style>\n",
       "<table border=\"1\" class=\"dataframe\">\n",
       "  <thead>\n",
       "    <tr style=\"text-align: right;\">\n",
       "      <th></th>\n",
       "      <th>C3 eFG</th>\n",
       "      <th>NC3 eFG</th>\n",
       "      <th>TwoPT eFG</th>\n",
       "      <th>Overall eFG</th>\n",
       "    </tr>\n",
       "  </thead>\n",
       "  <tbody>\n",
       "    <tr>\n",
       "      <th>0</th>\n",
       "      <td>0.6</td>\n",
       "      <td>0.483333</td>\n",
       "      <td>0.4</td>\n",
       "      <td>0.441071</td>\n",
       "    </tr>\n",
       "  </tbody>\n",
       "</table>\n",
       "</div>"
      ],
      "text/plain": [
       "   C3 eFG   NC3 eFG  TwoPT eFG  Overall eFG\n",
       "0     0.6  0.483333        0.4     0.441071"
      ]
     },
     "execution_count": 3,
     "metadata": {},
     "output_type": "execute_result"
    }
   ],
   "source": [
    "eFG_C3_A=(C3_Make_A)*1.5/(C3_Attempt_A)\n",
    "eFG_NC3_A=(NC3_Make_A)*1.5/(NC3_Attempt_A)\n",
    "eFG_TwoPT_A=(TwoPt_Make_A)/(TwoPt_Attempt_A)\n",
    "eFG_Overall_A=(TwoPt_Make_A+(C3_Make_A+NC3_Make_A)*1.5)/(Shot_Total_A)\n",
    "\n",
    "eFG_A = {'C3 eFG':  [eFG_C3_A],'NC3 eFG': [eFG_NC3_A],'TwoPT eFG': [eFG_TwoPT_A],'Overall eFG':[eFG_Overall_A]}\n",
    "eFG_A = pd.DataFrame(eFG_A)\n",
    "eFG_A"
   ]
  },
  {
   "cell_type": "code",
   "execution_count": 4,
   "metadata": {},
   "outputs": [
    {
     "data": {
      "text/html": [
       "<div>\n",
       "<style scoped>\n",
       "    .dataframe tbody tr th:only-of-type {\n",
       "        vertical-align: middle;\n",
       "    }\n",
       "\n",
       "    .dataframe tbody tr th {\n",
       "        vertical-align: top;\n",
       "    }\n",
       "\n",
       "    .dataframe thead th {\n",
       "        text-align: right;\n",
       "    }\n",
       "</style>\n",
       "<table border=\"1\" class=\"dataframe\">\n",
       "  <thead>\n",
       "    <tr style=\"text-align: right;\">\n",
       "      <th></th>\n",
       "      <th>C3</th>\n",
       "      <th>NC3</th>\n",
       "      <th>TwoPT</th>\n",
       "    </tr>\n",
       "  </thead>\n",
       "  <tbody>\n",
       "    <tr>\n",
       "      <th>0</th>\n",
       "      <td>0.075</td>\n",
       "      <td>0.342857</td>\n",
       "      <td>0.582143</td>\n",
       "    </tr>\n",
       "  </tbody>\n",
       "</table>\n",
       "</div>"
      ],
      "text/plain": [
       "      C3       NC3     TwoPT\n",
       "0  0.075  0.342857  0.582143"
      ]
     },
     "execution_count": 4,
     "metadata": {},
     "output_type": "execute_result"
    }
   ],
   "source": [
    "Team_B=Data.loc[Data['team'] == 'Team B']\n",
    "ShotData_B=Team_B.sum(axis=0)\n",
    "ShotData_B.drop(labels=['team','x','y'], inplace=True)\n",
    "Shot_Total_B=len(Team_B)\n",
    "Shot_Make_Total_B=ShotData_B[0]\n",
    "C3_Attempt_B=ShotData_B[1]\n",
    "NC3_Attempt_B=ShotData_B[2]\n",
    "TwoPt_Attempt_B=ShotData_B[3]\n",
    "C3_Make_B=ShotData_B[4]\n",
    "NC3_Make_B=ShotData_B[5]\n",
    "TwoPt_Make_B=ShotData_B[6]\n",
    "\n",
    "Shot_Distribution_B = {'C3':  [C3_Attempt_B/Shot_Total_B],'NC3': [NC3_Attempt_B/Shot_Total_A],'TwoPT': [TwoPt_Attempt_B/Shot_Total_B]}\n",
    "Shot_Distribution_B = pd.DataFrame(Shot_Distribution_B)\n",
    "Shot_Distribution_B"
   ]
  },
  {
   "cell_type": "code",
   "execution_count": 5,
   "metadata": {},
   "outputs": [
    {
     "data": {
      "text/html": [
       "<div>\n",
       "<style scoped>\n",
       "    .dataframe tbody tr th:only-of-type {\n",
       "        vertical-align: middle;\n",
       "    }\n",
       "\n",
       "    .dataframe tbody tr th {\n",
       "        vertical-align: top;\n",
       "    }\n",
       "\n",
       "    .dataframe thead th {\n",
       "        text-align: right;\n",
       "    }\n",
       "</style>\n",
       "<table border=\"1\" class=\"dataframe\">\n",
       "  <thead>\n",
       "    <tr style=\"text-align: right;\">\n",
       "      <th></th>\n",
       "      <th>C3 eFG</th>\n",
       "      <th>NC3 eFG</th>\n",
       "      <th>TwoPT eFG</th>\n",
       "      <th>Overall eFG</th>\n",
       "    </tr>\n",
       "  </thead>\n",
       "  <tbody>\n",
       "    <tr>\n",
       "      <th>0</th>\n",
       "      <td>0.357143</td>\n",
       "      <td>0.546875</td>\n",
       "      <td>0.460123</td>\n",
       "      <td>0.498214</td>\n",
       "    </tr>\n",
       "  </tbody>\n",
       "</table>\n",
       "</div>"
      ],
      "text/plain": [
       "     C3 eFG   NC3 eFG  TwoPT eFG  Overall eFG\n",
       "0  0.357143  0.546875   0.460123     0.498214"
      ]
     },
     "execution_count": 5,
     "metadata": {},
     "output_type": "execute_result"
    }
   ],
   "source": [
    "eFG_C3_B=(C3_Make_B)*1.5/(C3_Attempt_B)\n",
    "eFG_NC3_B=(NC3_Make_B)*1.5/(NC3_Attempt_B)\n",
    "eFG_TwoPT_B=(TwoPt_Make_B)/(TwoPt_Attempt_B)\n",
    "eFG_Overall_B=(TwoPt_Make_B+(C3_Make_A+NC3_Make_B)*1.5)/(Shot_Total_B)\n",
    "\n",
    "eFG_B = {'C3 eFG':  [eFG_C3_B],'NC3 eFG': [eFG_NC3_B],'TwoPT eFG': [eFG_TwoPT_B],'Overall eFG':[eFG_Overall_B]}\n",
    "eFG_B = pd.DataFrame(eFG_B)\n",
    "eFG_B"
   ]
  },
  {
   "cell_type": "code",
   "execution_count": null,
   "metadata": {},
   "outputs": [],
   "source": []
  }
 ],
 "metadata": {
  "kernelspec": {
   "display_name": "Python 3",
   "language": "python",
   "name": "python3"
  },
  "language_info": {
   "codemirror_mode": {
    "name": "ipython",
    "version": 3
   },
   "file_extension": ".py",
   "mimetype": "text/x-python",
   "name": "python",
   "nbconvert_exporter": "python",
   "pygments_lexer": "ipython3",
   "version": "3.8.3"
  }
 },
 "nbformat": 4,
 "nbformat_minor": 4
}
